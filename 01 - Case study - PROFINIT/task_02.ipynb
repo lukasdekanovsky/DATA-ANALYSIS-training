{
 "cells": [
  {
   "cell_type": "markdown",
   "metadata": {},
   "source": [
    "# Úloha 2\n",
    "####    Data o několika stovkách klientů obsahují dva sloupce: pohlaví a věk. Máme hypotézu, že podíl žen mezi klienty se statisticky významně mění s věkem.\n",
    "####    a) Navrhněte způsob, jak graficky znázornit data tak, abychom si udělali dobrou a korektní představu, zda může hypotéza platit.\n",
    "####    b) Navrhněte vhodnou statistickou metodu, která by hypotézu na datech ověřila. Můžete uvést i více metod."
   ]
  },
  {
   "cell_type": "markdown",
   "metadata": {},
   "source": [
    "### Import packages"
   ]
  },
  {
   "cell_type": "code",
   "execution_count": 35,
   "metadata": {},
   "outputs": [],
   "source": [
    "import pandas as pd\n",
    "import numpy as np\n",
    "import matplotlib.pyplot as plt\n",
    "import seaborn as sns\n",
    "import random\n",
    "import os"
   ]
  },
  {
   "cell_type": "markdown",
   "metadata": {},
   "source": [
    "###    a) Navrhněte způsob, jak graficky znázornit data tak, abychom si udělali dobrou a korektní představu, zda může hypotéza platit."
   ]
  },
  {
   "cell_type": "markdown",
   "metadata": {},
   "source": [
    "### Dataset creation"
   ]
  },
  {
   "cell_type": "code",
   "execution_count": 142,
   "metadata": {},
   "outputs": [],
   "source": [
    "def generate_dataset():\n",
    "    \n",
    "    initial_probability = 0.4  # Initial F/M ratio\n",
    "    exponential_factor = 1.01\n",
    "    data = []\n",
    "\n",
    "    \n",
    "    for age in range(18, 80):               # one age 18\n",
    "        sample = random.randint(90, 100)      # sampling random big group of clients 90-100 to add a litle bit of noise \n",
    "        for i in range(sample):\n",
    "            if random.random() < initial_probability:   # initial probability 0,4 = 4 from 10 will be assigned as Female \n",
    "                data.append((\"F\", age))                 \n",
    "            else:\n",
    "                data.append((\"M\", age))\n",
    "        initial_probability *= exponential_factor                        # once one age run is done, we will modulate probability \n",
    "                \n",
    "    dataset = pd.DataFrame(data)\n",
    "    \n",
    "\n",
    "    if not os.path.exists('./data'):\n",
    "        os.makedirs('./data')\n",
    "    dataset.columns = ['gender', 'age']\n",
    "    dataset.to_csv(\"./data/data.csv\", index=False)\n",
    "\n",
    "\n",
    "generate_dataset()"
   ]
  },
  {
   "cell_type": "markdown",
   "metadata": {},
   "source": [
    "Read data"
   ]
  },
  {
   "cell_type": "code",
   "execution_count": 148,
   "metadata": {},
   "outputs": [
    {
     "data": {
      "text/html": [
       "<div>\n",
       "<style scoped>\n",
       "    .dataframe tbody tr th:only-of-type {\n",
       "        vertical-align: middle;\n",
       "    }\n",
       "\n",
       "    .dataframe tbody tr th {\n",
       "        vertical-align: top;\n",
       "    }\n",
       "\n",
       "    .dataframe thead th {\n",
       "        text-align: right;\n",
       "    }\n",
       "</style>\n",
       "<table border=\"1\" class=\"dataframe\">\n",
       "  <thead>\n",
       "    <tr style=\"text-align: right;\">\n",
       "      <th></th>\n",
       "      <th>gender</th>\n",
       "      <th>age</th>\n",
       "    </tr>\n",
       "  </thead>\n",
       "  <tbody>\n",
       "    <tr>\n",
       "      <th>0</th>\n",
       "      <td>M</td>\n",
       "      <td>18</td>\n",
       "    </tr>\n",
       "    <tr>\n",
       "      <th>1</th>\n",
       "      <td>M</td>\n",
       "      <td>18</td>\n",
       "    </tr>\n",
       "    <tr>\n",
       "      <th>2</th>\n",
       "      <td>F</td>\n",
       "      <td>18</td>\n",
       "    </tr>\n",
       "    <tr>\n",
       "      <th>3</th>\n",
       "      <td>M</td>\n",
       "      <td>18</td>\n",
       "    </tr>\n",
       "    <tr>\n",
       "      <th>4</th>\n",
       "      <td>M</td>\n",
       "      <td>18</td>\n",
       "    </tr>\n",
       "  </tbody>\n",
       "</table>\n",
       "</div>"
      ],
      "text/plain": [
       "  gender  age\n",
       "0      M   18\n",
       "1      M   18\n",
       "2      F   18\n",
       "3      M   18\n",
       "4      M   18"
      ]
     },
     "execution_count": 148,
     "metadata": {},
     "output_type": "execute_result"
    }
   ],
   "source": [
    "# data import  \n",
    "data = pd.read_csv(\"./data/data.csv\")\n",
    "data.head()"
   ]
  },
  {
   "cell_type": "markdown",
   "metadata": {},
   "source": [
    "### Dataset vizualization"
   ]
  },
  {
   "cell_type": "code",
   "execution_count": 208,
   "metadata": {},
   "outputs": [],
   "source": [
    "# 1) Data preprocessing\n",
    "grouped_data = data.groupby(\"age\").value_counts()\n",
    "grouped_data_dataframe = pd.DataFrame(grouped_data)\n",
    "grouped_data_dataframe.to_csv(\"./data/preprocessed_dataset.csv\")"
   ]
  },
  {
   "cell_type": "code",
   "execution_count": 225,
   "metadata": {},
   "outputs": [
    {
     "data": {
      "image/png": "[encoded data removed]",
      "text/plain": [
       "<Figure size 1000x500 with 1 Axes>"
      ]
     },
     "metadata": {},
     "output_type": "display_data"
    }
   ],
   "source": [
    "# 2) Data load\n",
    "data_to_plot = pd.read_csv(\"./data/preprocessed_dataset.csv\")\n",
    "\n",
    "data_to_plot[data_to_plot[\"gender\"] == \"M\"][\"count\"]\n",
    "fig, ax = plt.subplots(figsize=(10,5))\n",
    "ax.scatter(x=data_to_plot[data_to_plot[\"gender\"] == \"M\"][\"age\"],\n",
    "           y=data_to_plot[data_to_plot[\"gender\"] == \"M\"][\"count\"],\n",
    "           color=\"cyan\", \n",
    "           label=\"male\")\n",
    "ax.scatter(x=data_to_plot[data_to_plot[\"gender\"] == \"F\"][\"age\"],\n",
    "           y=data_to_plot[data_to_plot[\"gender\"] == \"F\"][\"count\"],\n",
    "           color=\"pink\", \n",
    "           label=\"female\")\n",
    "ax.legend(title=\"Gender\")\n",
    "ax.set(title=\"Clients by gender\", \n",
    "       xlabel=\"Age\",\n",
    "       ylabel=\"Number of clients\")\n",
    "ax.grid(True)\n",
    "ax.set_xlim(30, 80)\n",
    "plt.show()"
   ]
  },
  {
   "cell_type": "markdown",
   "metadata": {},
   "source": [
    "### b) Navrhněte vhodnou statistickou metodu, která by hypotézu na datech ověřila. Můžete uvést i více metod."
   ]
  },
  {
   "cell_type": "code",
   "execution_count": 231,
   "metadata": {},
   "outputs": [
    {
     "name": "stdout",
     "output_type": "stream",
     "text": [
      "P-value: 4.063614230157122e-39\n",
      "Significant difference in the ratio of M to F across the groups/time points.\n"
     ]
    },
    {
     "name": "stderr",
     "output_type": "stream",
     "text": [
      "C:\\Users\\DekanovskyL\\AppData\\Local\\Temp\\ipykernel_14460\\1014726365.py:6: FutureWarning: Downcasting behavior in `replace` is deprecated and will be removed in a future version. To retain the old behavior, explicitly call `result.infer_objects(copy=False)`. To opt-in to the future behavior, set `pd.set_option('future.no_silent_downcasting', True)`\n",
      "  data['gender'] = data['gender'].replace({'M': 1, 'F': 0})\n"
     ]
    }
   ],
   "source": [
    "import numpy as np\n",
    "from scipy.stats import chi2_contingency\n",
    "\n",
    "# Preprocessing\n",
    "data = pd.read_csv(\"./data/preprocessed_dataset.csv\")\n",
    "data['gender'] = data['gender'].replace({'M': 1, 'F': 0})\n",
    "data_array = np.array(data)\n",
    "\n",
    "# Perform the Chi-Square Test\n",
    "chi2, p, dof, expected = chi2_contingency(data_array)\n",
    "\n",
    "# Print the p-value\n",
    "print(f\"P-value: {p}\")\n",
    "\n",
    "# Interpret the result\n",
    "alpha = 0.05\n",
    "if p < alpha:\n",
    "    print(\"Significant difference in the ratio of M to F across the groups/time points.\")\n",
    "else:\n",
    "    print(\"No significant difference in the ratio of M to F across the groups/time points.\")"
   ]
  }
 ],
 "metadata": {
  "kernelspec": {
   "display_name": "venv",
   "language": "python",
   "name": "python3"
  },
  "language_info": {
   "codemirror_mode": {
    "name": "ipython",
    "version": 3
   },
   "file_extension": ".py",
   "mimetype": "text/x-python",
   "name": "python",
   "nbconvert_exporter": "python",
   "pygments_lexer": "ipython3",
   "version": "3.12.4"
  }
 },
 "nbformat": 4,
 "nbformat_minor": 2
}
