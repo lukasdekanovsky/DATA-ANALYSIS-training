{
 "cells": [
  {
   "cell_type": "markdown",
   "metadata": {},
   "source": [
    "# Úloha 5\n",
    "#### V následující úloze uveďte řešení pro ta z následujících tří prostředí, u nichž to dokážete.\n",
    "### a) SQL relační databáze\n",
    "### b) Python – pandas\n",
    "### c) R – volitelně pro data.frame, data.table nebo tidyverse\n",
    "#### Máme tabulku Cl obsahující pro každého klienta banky mj. jeho id (sloupec clid) a rok narození (sloupec byear).\n",
    "#### Dále máme tabulku Tr obsahující bankovní transakce klientů, a to se sloupci id klienta (sloupec clid), směr transakce (sloupec dir; znak C v něm znamená příchozí transakci a znak D odchozí) a částku transakce (sloupec amt).\n",
    "#### Platí, že ke každé transakci v tabulce Tr existuje záznam o klientovi v tabulce Cl, ale někteří klienti nemusejí mít žádné transakce.\n",
    "#### Vypište příkazy, jejichž výsledkem bude pro každého klienta narozeného před rokem 2000 součet částek u všech jeho příchozích transakcí. Klienti, kteří nemají žádné transakce, budou mít tento součet roven 0."
   ]
  },
  {
   "cell_type": "code",
   "execution_count": null,
   "metadata": {},
   "outputs": [],
   "source": []
  }
 ],
 "metadata": {
  "language_info": {
   "name": "python"
  }
 },
 "nbformat": 4,
 "nbformat_minor": 2
}
