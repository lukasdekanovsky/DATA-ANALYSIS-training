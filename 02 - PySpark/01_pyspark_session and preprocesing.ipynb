{
 "cells": [
  {
   "cell_type": "markdown",
   "metadata": {},
   "source": [
    "## 1) Import module"
   ]
  },
  {
   "cell_type": "code",
   "execution_count": 3,
   "metadata": {},
   "outputs": [],
   "source": [
    "import pyspark"
   ]
  },
  {
   "cell_type": "markdown",
   "metadata": {},
   "source": [
    "## 2) Starting a SPARK session"
   ]
  },
  {
   "cell_type": "code",
   "execution_count": 2,
   "metadata": {},
   "outputs": [],
   "source": [
    "from pyspark.sql import SparkSession"
   ]
  },
  {
   "cell_type": "code",
   "execution_count": 3,
   "metadata": {},
   "outputs": [],
   "source": [
    "# Create a SparkSession\n",
    "spark = SparkSession.builder.appName(\"example\").getOrCreate()"
   ]
  },
  {
   "cell_type": "code",
   "execution_count": 4,
   "metadata": {},
   "outputs": [
    {
     "data": {
      "text/html": [
       "\n",
       "            <div>\n",
       "                <p><b>SparkSession - in-memory</b></p>\n",
       "                \n",
       "        <div>\n",
       "            <p><b>SparkContext</b></p>\n",
       "\n",
       "            <p><a href=\"http://DekanovskyNB.advacam.local:4040\">Spark UI</a></p>\n",
       "\n",
       "            <dl>\n",
       "              <dt>Version</dt>\n",
       "                <dd><code>v3.5.1</code></dd>\n",
       "              <dt>Master</dt>\n",
       "                <dd><code>local[*]</code></dd>\n",
       "              <dt>AppName</dt>\n",
       "                <dd><code>example</code></dd>\n",
       "            </dl>\n",
       "        </div>\n",
       "        \n",
       "            </div>\n",
       "        "
      ],
      "text/plain": [
       "<pyspark.sql.session.SparkSession at 0x2fbf5d0a7b0>"
      ]
     },
     "execution_count": 4,
     "metadata": {},
     "output_type": "execute_result"
    }
   ],
   "source": [
    "spark"
   ]
  },
  {
   "cell_type": "markdown",
   "metadata": {},
   "source": [
    "## 3) Read dataset\n"
   ]
  },
  {
   "cell_type": "code",
   "execution_count": 24,
   "metadata": {},
   "outputs": [
    {
     "name": "stdout",
     "output_type": "stream",
     "text": [
      "+----+--------------------+-------------------+-------------+------+----------+------+-----------------------+--------------+\n",
      "|Year|               Sport|              Event|      Country|Gender|Medal Rank| Medal|Name of Athlete or Team|Age of Athlete|\n",
      "+----+--------------------+-------------------+-------------+------+----------+------+-----------------------+--------------+\n",
      "|1924|             Bobsled|    Men's Four/Five|  Switzerland|   Men|         1|  gold|          Switzerland-1|          NULL|\n",
      "|1924|             Bobsled|    Men's Four/Five|      Britain|   Men|         2|silver|              Britain-1|          NULL|\n",
      "|1924|             Bobsled|    Men's Four/Five|      Belgium|   Men|         3|bronze|              Belgium-1|          NULL|\n",
      "|1924|Cross-Country Skiing|Men's 18 Kilometers|       Norway|   Men|         1|  gold|          Thorleif Haug|            29|\n",
      "|1924|Cross-Country Skiing|Men's 18 Kilometers|       Norway|   Men|         2|silver|   Johan GrÃ¸ttumsbr...|            24|\n",
      "|1924|Cross-Country Skiing|Men's 18 Kilometers|      Finland|   Men|         3|bronze|            Tapani Niku|            28|\n",
      "|1924|Cross-Country Skiing|Men's 50 Kilometers|       Norway|   Men|         1|  gold|          Thorleif Haug|            29|\n",
      "|1924|Cross-Country Skiing|Men's 50 Kilometers|       Norway|   Men|         2|silver|     Thoralf StrÃ¸mstad|            27|\n",
      "|1924|Cross-Country Skiing|Men's 50 Kilometers|       Norway|   Men|         3|bronze|   Johan GrÃ¸ttumsbr...|            24|\n",
      "|1924|             Curling|      Men's Curling|      Britain|   Men|         1|  gold|                Britain|          NULL|\n",
      "|1924|             Curling|      Men's Curling|       Sweden|   Men|         2|silver|                 Sweden|          NULL|\n",
      "|1924|             Curling|      Men's Curling|       France|   Men|         3|bronze|                 France|          NULL|\n",
      "|1924|      Figure Skating|      Men's Singles|       Sweden|   Men|         1|  gold|      Gillis GrafstrÃ¶m|            30|\n",
      "|1924|      Figure Skating|      Men's Singles|      Austria|   Men|         2|silver|           Willy BÃ¶ckl|            30|\n",
      "|1924|      Figure Skating|      Men's Singles|  Switzerland|   Men|         3|bronze|       Georges Gautschi|            19|\n",
      "|1924|      Figure Skating|        Mixed Pairs|      Austria| Mixed|         1|  gold|                Austria|          NULL|\n",
      "|1924|      Figure Skating|        Mixed Pairs|      Finland| Mixed|         2|silver|                Finland|          NULL|\n",
      "|1924|      Figure Skating|        Mixed Pairs|       France| Mixed|         3|bronze|               France-1|          NULL|\n",
      "|1924|      Figure Skating|    Women's Singles|      Austria| Women|         1|  gold|     Herma Planck-Szabo|            21|\n",
      "|1924|      Figure Skating|    Women's Singles|United States| Women|         2|silver|       Beatrix Loughran|            23|\n",
      "+----+--------------------+-------------------+-------------+------+----------+------+-----------------------+--------------+\n",
      "only showing top 20 rows\n",
      "\n"
     ]
    }
   ],
   "source": [
    "df_pyspark = spark.read.csv(\"./data/data_sport.csv\", header=True, inferSchema=True, sep=\";\")\n",
    "df_pyspark.show()"
   ]
  },
  {
   "cell_type": "markdown",
   "metadata": {},
   "source": [
    "## 4) Basic investigation"
   ]
  },
  {
   "cell_type": "code",
   "execution_count": 10,
   "metadata": {},
   "outputs": [
    {
     "name": "stdout",
     "output_type": "stream",
     "text": [
      "root\n",
      " |-- Year: integer (nullable = true)\n",
      " |-- Sport: string (nullable = true)\n",
      " |-- Event: string (nullable = true)\n",
      " |-- Country: string (nullable = true)\n",
      " |-- Gender: string (nullable = true)\n",
      " |-- Medal Rank: integer (nullable = true)\n",
      " |-- Medal: string (nullable = true)\n",
      " |-- Name of Athlete or Team: string (nullable = true)\n",
      " |-- Age of Athlete: integer (nullable = true)\n",
      "\n"
     ]
    }
   ],
   "source": [
    "df_pyspark.printSchema()"
   ]
  },
  {
   "cell_type": "code",
   "execution_count": 13,
   "metadata": {},
   "outputs": [
    {
     "data": {
      "text/plain": [
       "[Row(Year=1924, Sport='Bobsled', Event=\"Men's Four/Five\", Country='Switzerland', Gender='Men', Medal Rank=1, Medal='gold', Name of Athlete or Team='Switzerland-1', Age of Athlete=None),\n",
       " Row(Year=1924, Sport='Bobsled', Event=\"Men's Four/Five\", Country='Britain', Gender='Men', Medal Rank=2, Medal='silver', Name of Athlete or Team='Britain-1', Age of Athlete=None),\n",
       " Row(Year=1924, Sport='Bobsled', Event=\"Men's Four/Five\", Country='Belgium', Gender='Men', Medal Rank=3, Medal='bronze', Name of Athlete or Team='Belgium-1', Age of Athlete=None)]"
      ]
     },
     "execution_count": 13,
     "metadata": {},
     "output_type": "execute_result"
    }
   ],
   "source": [
    "df_pyspark.head(3)"
   ]
  },
  {
   "cell_type": "code",
   "execution_count": 12,
   "metadata": {},
   "outputs": [
    {
     "name": "stdout",
     "output_type": "stream",
     "text": [
      "+----+\n",
      "|Year|\n",
      "+----+\n",
      "|1924|\n",
      "|1924|\n",
      "|1924|\n",
      "|1924|\n",
      "|1924|\n",
      "|1924|\n",
      "|1924|\n",
      "|1924|\n",
      "|1924|\n",
      "|1924|\n",
      "|1924|\n",
      "|1924|\n",
      "|1924|\n",
      "|1924|\n",
      "|1924|\n",
      "|1924|\n",
      "|1924|\n",
      "|1924|\n",
      "|1924|\n",
      "|1924|\n",
      "+----+\n",
      "only showing top 20 rows\n",
      "\n"
     ]
    }
   ],
   "source": [
    "df_pyspark.select(\"Year\").show()"
   ]
  },
  {
   "cell_type": "markdown",
   "metadata": {},
   "source": [
    "## 5) Selecting columns and indexing"
   ]
  },
  {
   "cell_type": "code",
   "execution_count": 14,
   "metadata": {},
   "outputs": [
    {
     "data": {
      "text/plain": [
       "['Year',\n",
       " 'Sport',\n",
       " 'Event',\n",
       " 'Country',\n",
       " 'Gender',\n",
       " 'Medal Rank',\n",
       " 'Medal',\n",
       " 'Name of Athlete or Team',\n",
       " 'Age of Athlete']"
      ]
     },
     "execution_count": 14,
     "metadata": {},
     "output_type": "execute_result"
    }
   ],
   "source": [
    "df_pyspark.columns"
   ]
  },
  {
   "cell_type": "code",
   "execution_count": null,
   "metadata": {},
   "outputs": [],
   "source": [
    "df_pyspark.select([\"Year\", \"Sport\"]).show()"
   ]
  },
  {
   "cell_type": "markdown",
   "metadata": {},
   "source": [
    "## 6) Checking datatypes"
   ]
  },
  {
   "cell_type": "code",
   "execution_count": 16,
   "metadata": {},
   "outputs": [
    {
     "data": {
      "text/plain": [
       "[('Year', 'int'),\n",
       " ('Sport', 'string'),\n",
       " ('Event', 'string'),\n",
       " ('Country', 'string'),\n",
       " ('Gender', 'string'),\n",
       " ('Medal Rank', 'int'),\n",
       " ('Medal', 'string'),\n",
       " ('Name of Athlete or Team', 'string'),\n",
       " ('Age of Athlete', 'int')]"
      ]
     },
     "execution_count": 16,
     "metadata": {},
     "output_type": "execute_result"
    }
   ],
   "source": [
    "df_pyspark.dtypes   "
   ]
  },
  {
   "cell_type": "code",
   "execution_count": 18,
   "metadata": {},
   "outputs": [
    {
     "data": {
      "text/plain": [
       "DataFrame[summary: string, Year: string, Sport: string, Event: string, Country: string, Gender: string, Medal Rank: string, Medal: string, Name of Athlete or Team: string, Age of Athlete: string]"
      ]
     },
     "execution_count": 18,
     "metadata": {},
     "output_type": "execute_result"
    }
   ],
   "source": [
    "df_pyspark.describe()"
   ]
  },
  {
   "cell_type": "markdown",
   "metadata": {},
   "source": [
    "## 7) Adding columns "
   ]
  },
  {
   "cell_type": "code",
   "execution_count": 25,
   "metadata": {},
   "outputs": [],
   "source": [
    "df_pyspark = df_pyspark.withColumn(\"Year+1\", df_pyspark[\"Year\"]+1)"
   ]
  },
  {
   "cell_type": "code",
   "execution_count": 26,
   "metadata": {},
   "outputs": [
    {
     "name": "stdout",
     "output_type": "stream",
     "text": [
      "+----+--------------------+-------------------+-------------+------+----------+------+-----------------------+--------------+------+\n",
      "|Year|               Sport|              Event|      Country|Gender|Medal Rank| Medal|Name of Athlete or Team|Age of Athlete|Year+1|\n",
      "+----+--------------------+-------------------+-------------+------+----------+------+-----------------------+--------------+------+\n",
      "|1924|             Bobsled|    Men's Four/Five|  Switzerland|   Men|         1|  gold|          Switzerland-1|          NULL|  1925|\n",
      "|1924|             Bobsled|    Men's Four/Five|      Britain|   Men|         2|silver|              Britain-1|          NULL|  1925|\n",
      "|1924|             Bobsled|    Men's Four/Five|      Belgium|   Men|         3|bronze|              Belgium-1|          NULL|  1925|\n",
      "|1924|Cross-Country Skiing|Men's 18 Kilometers|       Norway|   Men|         1|  gold|          Thorleif Haug|            29|  1925|\n",
      "|1924|Cross-Country Skiing|Men's 18 Kilometers|       Norway|   Men|         2|silver|   Johan GrÃ¸ttumsbr...|            24|  1925|\n",
      "|1924|Cross-Country Skiing|Men's 18 Kilometers|      Finland|   Men|         3|bronze|            Tapani Niku|            28|  1925|\n",
      "|1924|Cross-Country Skiing|Men's 50 Kilometers|       Norway|   Men|         1|  gold|          Thorleif Haug|            29|  1925|\n",
      "|1924|Cross-Country Skiing|Men's 50 Kilometers|       Norway|   Men|         2|silver|     Thoralf StrÃ¸mstad|            27|  1925|\n",
      "|1924|Cross-Country Skiing|Men's 50 Kilometers|       Norway|   Men|         3|bronze|   Johan GrÃ¸ttumsbr...|            24|  1925|\n",
      "|1924|             Curling|      Men's Curling|      Britain|   Men|         1|  gold|                Britain|          NULL|  1925|\n",
      "|1924|             Curling|      Men's Curling|       Sweden|   Men|         2|silver|                 Sweden|          NULL|  1925|\n",
      "|1924|             Curling|      Men's Curling|       France|   Men|         3|bronze|                 France|          NULL|  1925|\n",
      "|1924|      Figure Skating|      Men's Singles|       Sweden|   Men|         1|  gold|      Gillis GrafstrÃ¶m|            30|  1925|\n",
      "|1924|      Figure Skating|      Men's Singles|      Austria|   Men|         2|silver|           Willy BÃ¶ckl|            30|  1925|\n",
      "|1924|      Figure Skating|      Men's Singles|  Switzerland|   Men|         3|bronze|       Georges Gautschi|            19|  1925|\n",
      "|1924|      Figure Skating|        Mixed Pairs|      Austria| Mixed|         1|  gold|                Austria|          NULL|  1925|\n",
      "|1924|      Figure Skating|        Mixed Pairs|      Finland| Mixed|         2|silver|                Finland|          NULL|  1925|\n",
      "|1924|      Figure Skating|        Mixed Pairs|       France| Mixed|         3|bronze|               France-1|          NULL|  1925|\n",
      "|1924|      Figure Skating|    Women's Singles|      Austria| Women|         1|  gold|     Herma Planck-Szabo|            21|  1925|\n",
      "|1924|      Figure Skating|    Women's Singles|United States| Women|         2|silver|       Beatrix Loughran|            23|  1925|\n",
      "+----+--------------------+-------------------+-------------+------+----------+------+-----------------------+--------------+------+\n",
      "only showing top 20 rows\n",
      "\n"
     ]
    }
   ],
   "source": [
    "df_pyspark.show()"
   ]
  },
  {
   "cell_type": "code",
   "execution_count": 29,
   "metadata": {},
   "outputs": [],
   "source": [
    "df_pyspark = df_pyspark.drop(\"Year+1\")"
   ]
  },
  {
   "cell_type": "code",
   "execution_count": 30,
   "metadata": {},
   "outputs": [
    {
     "name": "stdout",
     "output_type": "stream",
     "text": [
      "+----+--------------------+-------------------+-------------+------+----------+------+-----------------------+--------------+\n",
      "|Year|               Sport|              Event|      Country|Gender|Medal Rank| Medal|Name of Athlete or Team|Age of Athlete|\n",
      "+----+--------------------+-------------------+-------------+------+----------+------+-----------------------+--------------+\n",
      "|1924|             Bobsled|    Men's Four/Five|  Switzerland|   Men|         1|  gold|          Switzerland-1|          NULL|\n",
      "|1924|             Bobsled|    Men's Four/Five|      Britain|   Men|         2|silver|              Britain-1|          NULL|\n",
      "|1924|             Bobsled|    Men's Four/Five|      Belgium|   Men|         3|bronze|              Belgium-1|          NULL|\n",
      "|1924|Cross-Country Skiing|Men's 18 Kilometers|       Norway|   Men|         1|  gold|          Thorleif Haug|            29|\n",
      "|1924|Cross-Country Skiing|Men's 18 Kilometers|       Norway|   Men|         2|silver|   Johan GrÃ¸ttumsbr...|            24|\n",
      "|1924|Cross-Country Skiing|Men's 18 Kilometers|      Finland|   Men|         3|bronze|            Tapani Niku|            28|\n",
      "|1924|Cross-Country Skiing|Men's 50 Kilometers|       Norway|   Men|         1|  gold|          Thorleif Haug|            29|\n",
      "|1924|Cross-Country Skiing|Men's 50 Kilometers|       Norway|   Men|         2|silver|     Thoralf StrÃ¸mstad|            27|\n",
      "|1924|Cross-Country Skiing|Men's 50 Kilometers|       Norway|   Men|         3|bronze|   Johan GrÃ¸ttumsbr...|            24|\n",
      "|1924|             Curling|      Men's Curling|      Britain|   Men|         1|  gold|                Britain|          NULL|\n",
      "|1924|             Curling|      Men's Curling|       Sweden|   Men|         2|silver|                 Sweden|          NULL|\n",
      "|1924|             Curling|      Men's Curling|       France|   Men|         3|bronze|                 France|          NULL|\n",
      "|1924|      Figure Skating|      Men's Singles|       Sweden|   Men|         1|  gold|      Gillis GrafstrÃ¶m|            30|\n",
      "|1924|      Figure Skating|      Men's Singles|      Austria|   Men|         2|silver|           Willy BÃ¶ckl|            30|\n",
      "|1924|      Figure Skating|      Men's Singles|  Switzerland|   Men|         3|bronze|       Georges Gautschi|            19|\n",
      "|1924|      Figure Skating|        Mixed Pairs|      Austria| Mixed|         1|  gold|                Austria|          NULL|\n",
      "|1924|      Figure Skating|        Mixed Pairs|      Finland| Mixed|         2|silver|                Finland|          NULL|\n",
      "|1924|      Figure Skating|        Mixed Pairs|       France| Mixed|         3|bronze|               France-1|          NULL|\n",
      "|1924|      Figure Skating|    Women's Singles|      Austria| Women|         1|  gold|     Herma Planck-Szabo|            21|\n",
      "|1924|      Figure Skating|    Women's Singles|United States| Women|         2|silver|       Beatrix Loughran|            23|\n",
      "+----+--------------------+-------------------+-------------+------+----------+------+-----------------------+--------------+\n",
      "only showing top 20 rows\n",
      "\n"
     ]
    }
   ],
   "source": [
    "df_pyspark.show()"
   ]
  },
  {
   "cell_type": "markdown",
   "metadata": {},
   "source": [
    "## 8) Rename column"
   ]
  },
  {
   "cell_type": "code",
   "execution_count": 31,
   "metadata": {},
   "outputs": [
    {
     "name": "stdout",
     "output_type": "stream",
     "text": [
      "+-------+--------------------+-------------------+-------------+------+----------+------+-----------------------+--------------+\n",
      "|NewYear|               Sport|              Event|      Country|Gender|Medal Rank| Medal|Name of Athlete or Team|Age of Athlete|\n",
      "+-------+--------------------+-------------------+-------------+------+----------+------+-----------------------+--------------+\n",
      "|   1924|             Bobsled|    Men's Four/Five|  Switzerland|   Men|         1|  gold|          Switzerland-1|          NULL|\n",
      "|   1924|             Bobsled|    Men's Four/Five|      Britain|   Men|         2|silver|              Britain-1|          NULL|\n",
      "|   1924|             Bobsled|    Men's Four/Five|      Belgium|   Men|         3|bronze|              Belgium-1|          NULL|\n",
      "|   1924|Cross-Country Skiing|Men's 18 Kilometers|       Norway|   Men|         1|  gold|          Thorleif Haug|            29|\n",
      "|   1924|Cross-Country Skiing|Men's 18 Kilometers|       Norway|   Men|         2|silver|   Johan GrÃ¸ttumsbr...|            24|\n",
      "|   1924|Cross-Country Skiing|Men's 18 Kilometers|      Finland|   Men|         3|bronze|            Tapani Niku|            28|\n",
      "|   1924|Cross-Country Skiing|Men's 50 Kilometers|       Norway|   Men|         1|  gold|          Thorleif Haug|            29|\n",
      "|   1924|Cross-Country Skiing|Men's 50 Kilometers|       Norway|   Men|         2|silver|     Thoralf StrÃ¸mstad|            27|\n",
      "|   1924|Cross-Country Skiing|Men's 50 Kilometers|       Norway|   Men|         3|bronze|   Johan GrÃ¸ttumsbr...|            24|\n",
      "|   1924|             Curling|      Men's Curling|      Britain|   Men|         1|  gold|                Britain|          NULL|\n",
      "|   1924|             Curling|      Men's Curling|       Sweden|   Men|         2|silver|                 Sweden|          NULL|\n",
      "|   1924|             Curling|      Men's Curling|       France|   Men|         3|bronze|                 France|          NULL|\n",
      "|   1924|      Figure Skating|      Men's Singles|       Sweden|   Men|         1|  gold|      Gillis GrafstrÃ¶m|            30|\n",
      "|   1924|      Figure Skating|      Men's Singles|      Austria|   Men|         2|silver|           Willy BÃ¶ckl|            30|\n",
      "|   1924|      Figure Skating|      Men's Singles|  Switzerland|   Men|         3|bronze|       Georges Gautschi|            19|\n",
      "|   1924|      Figure Skating|        Mixed Pairs|      Austria| Mixed|         1|  gold|                Austria|          NULL|\n",
      "|   1924|      Figure Skating|        Mixed Pairs|      Finland| Mixed|         2|silver|                Finland|          NULL|\n",
      "|   1924|      Figure Skating|        Mixed Pairs|       France| Mixed|         3|bronze|               France-1|          NULL|\n",
      "|   1924|      Figure Skating|    Women's Singles|      Austria| Women|         1|  gold|     Herma Planck-Szabo|            21|\n",
      "|   1924|      Figure Skating|    Women's Singles|United States| Women|         2|silver|       Beatrix Loughran|            23|\n",
      "+-------+--------------------+-------------------+-------------+------+----------+------+-----------------------+--------------+\n",
      "only showing top 20 rows\n",
      "\n"
     ]
    }
   ],
   "source": [
    "df_pyspark = df_pyspark.withColumnRenamed(\"Year\", \"NewYear\")\n",
    "df_pyspark.show()"
   ]
  },
  {
   "cell_type": "markdown",
   "metadata": {},
   "source": [
    "## 9) Handling missing values"
   ]
  },
  {
   "cell_type": "code",
   "execution_count": 6,
   "metadata": {},
   "outputs": [],
   "source": [
    "from pyspark.sql import SparkSession"
   ]
  },
  {
   "cell_type": "code",
   "execution_count": 7,
   "metadata": {},
   "outputs": [
    {
     "data": {
      "text/html": [
       "\n",
       "            <div>\n",
       "                <p><b>SparkSession - in-memory</b></p>\n",
       "                \n",
       "        <div>\n",
       "            <p><b>SparkContext</b></p>\n",
       "\n",
       "            <p><a href=\"http://DekanovskyNB.advacam.local:4040\">Spark UI</a></p>\n",
       "\n",
       "            <dl>\n",
       "              <dt>Version</dt>\n",
       "                <dd><code>v3.5.1</code></dd>\n",
       "              <dt>Master</dt>\n",
       "                <dd><code>local[*]</code></dd>\n",
       "              <dt>AppName</dt>\n",
       "                <dd><code>testing</code></dd>\n",
       "            </dl>\n",
       "        </div>\n",
       "        \n",
       "            </div>\n",
       "        "
      ],
      "text/plain": [
       "<pyspark.sql.session.SparkSession at 0x2247fec5400>"
      ]
     },
     "execution_count": 7,
     "metadata": {},
     "output_type": "execute_result"
    }
   ],
   "source": [
    "spark = SparkSession.builder.appName(\"testing\").getOrCreate()\n",
    "spark"
   ]
  },
  {
   "cell_type": "code",
   "execution_count": 9,
   "metadata": {},
   "outputs": [
    {
     "name": "stdout",
     "output_type": "stream",
     "text": [
      "+--------+----+----------+------+\n",
      "|    name| age|experience|salary|\n",
      "+--------+----+----------+------+\n",
      "|   Lukas|  30|        10| 45000|\n",
      "|Katerina|  26|         8| 34000|\n",
      "|   Petra|  40|         4| 24000|\n",
      "|   Pavel|  45|         3| 20000|\n",
      "|    Kuba|  21|         1| 15000|\n",
      "|   Julie|NULL|      NULL| 40000|\n",
      "|   Tonda|  34|         2| 40500|\n",
      "|    NULL|  26|        10| 38000|\n",
      "|    NULL|  19|      NULL|  NULL|\n",
      "+--------+----+----------+------+\n",
      "\n"
     ]
    }
   ],
   "source": [
    "dataframe = spark.read.csv(\"./data/test_simple.csv\", header=True, inferSchema=True, sep=\";\")\n",
    "dataframe.show()"
   ]
  },
  {
   "cell_type": "code",
   "execution_count": 15,
   "metadata": {},
   "outputs": [
    {
     "name": "stdout",
     "output_type": "stream",
     "text": [
      "+--------+---+----------+------+\n",
      "|    name|age|experience|salary|\n",
      "+--------+---+----------+------+\n",
      "|   Lukas| 30|        10| 45000|\n",
      "|Katerina| 26|         8| 34000|\n",
      "|   Petra| 40|         4| 24000|\n",
      "|   Pavel| 45|         3| 20000|\n",
      "|    Kuba| 21|         1| 15000|\n",
      "|   Tonda| 34|         2| 40500|\n",
      "+--------+---+----------+------+\n",
      "\n"
     ]
    }
   ],
   "source": [
    "dataframe.na.drop(how = \"any\").show()"
   ]
  },
  {
   "cell_type": "code",
   "execution_count": 13,
   "metadata": {},
   "outputs": [
    {
     "name": "stdout",
     "output_type": "stream",
     "text": [
      "+--------+----+----------+------+\n",
      "|    name| age|experience|salary|\n",
      "+--------+----+----------+------+\n",
      "|   Lukas|  30|        10| 45000|\n",
      "|Katerina|  26|         8| 34000|\n",
      "|   Petra|  40|         4| 24000|\n",
      "|   Pavel|  45|         3| 20000|\n",
      "|    Kuba|  21|         1| 15000|\n",
      "|   Julie|NULL|      NULL| 40000|\n",
      "|   Tonda|  34|         2| 40500|\n",
      "|    NULL|  26|        10| 38000|\n",
      "|    NULL|  19|      NULL|  NULL|\n",
      "+--------+----+----------+------+\n",
      "\n"
     ]
    }
   ],
   "source": [
    "dataframe.na.drop(how=\"all\").show()"
   ]
  },
  {
   "cell_type": "code",
   "execution_count": 19,
   "metadata": {},
   "outputs": [
    {
     "name": "stdout",
     "output_type": "stream",
     "text": [
      "+--------+----+----------+------+\n",
      "|    name| age|experience|salary|\n",
      "+--------+----+----------+------+\n",
      "|   Lukas|  30|        10| 45000|\n",
      "|Katerina|  26|         8| 34000|\n",
      "|   Petra|  40|         4| 24000|\n",
      "|   Pavel|  45|         3| 20000|\n",
      "|    Kuba|  21|         1| 15000|\n",
      "|   Julie|NULL|      NULL| 40000|\n",
      "|   Tonda|  34|         2| 40500|\n",
      "|    NULL|  26|        10| 38000|\n",
      "+--------+----+----------+------+\n",
      "\n"
     ]
    }
   ],
   "source": [
    "dataframe.na.drop(thresh=2).show()"
   ]
  },
  {
   "cell_type": "code",
   "execution_count": 23,
   "metadata": {},
   "outputs": [
    {
     "name": "stdout",
     "output_type": "stream",
     "text": [
      "+--------+---+----------+------+\n",
      "|    name|age|experience|salary|\n",
      "+--------+---+----------+------+\n",
      "|   Lukas| 30|        10| 45000|\n",
      "|Katerina| 26|         8| 34000|\n",
      "|   Petra| 40|         4| 24000|\n",
      "|   Pavel| 45|         3| 20000|\n",
      "|    Kuba| 21|         1| 15000|\n",
      "|   Tonda| 34|         2| 40500|\n",
      "|    NULL| 26|        10| 38000|\n",
      "|    NULL| 19|      NULL|  NULL|\n",
      "+--------+---+----------+------+\n",
      "\n"
     ]
    }
   ],
   "source": [
    "dataframe.na.drop(subset=[\"age\"]).show()"
   ]
  },
  {
   "cell_type": "code",
   "execution_count": 34,
   "metadata": {},
   "outputs": [
    {
     "name": "stdout",
     "output_type": "stream",
     "text": [
      "+--------+----+----------+------+\n",
      "|    name| age|experience|salary|\n",
      "+--------+----+----------+------+\n",
      "|   Lukas|  30|        10| 45000|\n",
      "|Katerina|  26|         8| 34000|\n",
      "|   Petra|  40|         4| 24000|\n",
      "|   Pavel|  45|         3| 20000|\n",
      "|    Kuba|  21|         1| 15000|\n",
      "|   Julie|NULL|      NULL| 40000|\n",
      "|   Tonda|  34|         2| 40500|\n",
      "|    NULL|  26|        10| 38000|\n",
      "|    NULL|  19|      NULL|  NULL|\n",
      "+--------+----+----------+------+\n",
      "\n"
     ]
    }
   ],
   "source": [
    "dataframe.show()"
   ]
  },
  {
   "cell_type": "code",
   "execution_count": 38,
   "metadata": {},
   "outputs": [
    {
     "name": "stdout",
     "output_type": "stream",
     "text": [
      "+--------------+----+----------+------+\n",
      "|          name| age|experience|salary|\n",
      "+--------------+----+----------+------+\n",
      "|         Lukas|  30|        10| 45000|\n",
      "|      Katerina|  26|         8| 34000|\n",
      "|         Petra|  40|         4| 24000|\n",
      "|         Pavel|  45|         3| 20000|\n",
      "|          Kuba|  21|         1| 15000|\n",
      "|         Julie|NULL|      NULL| 40000|\n",
      "|         Tonda|  34|         2| 40500|\n",
      "|Missing Values|  26|        10| 38000|\n",
      "|Missing Values|  19|      NULL|  NULL|\n",
      "+--------------+----+----------+------+\n",
      "\n"
     ]
    }
   ],
   "source": [
    "dataframe.na.fill(\"Missing Values\").show()"
   ]
  },
  {
   "cell_type": "code",
   "execution_count": 45,
   "metadata": {},
   "outputs": [],
   "source": [
    "from pyspark.ml.feature import Imputer\n",
    "\n",
    "imputer = Imputer(      inputCols=[\"age\", \"experience\", \"salary\"],\n",
    "                        outputCols=[\"{}_imputed\".format(c) for c in [\"age\", \"experience\", \"salary\"]]\n",
    "                    ).setStrategy(\"mean\")"
   ]
  },
  {
   "cell_type": "code",
   "execution_count": 46,
   "metadata": {},
   "outputs": [
    {
     "name": "stdout",
     "output_type": "stream",
     "text": [
      "+--------+----+----------+------+-----------+------------------+--------------+\n",
      "|    name| age|experience|salary|age_imputed|experience_imputed|salary_imputed|\n",
      "+--------+----+----------+------+-----------+------------------+--------------+\n",
      "|   Lukas|  30|        10| 45000|         30|                10|         45000|\n",
      "|Katerina|  26|         8| 34000|         26|                 8|         34000|\n",
      "|   Petra|  40|         4| 24000|         40|                 4|         24000|\n",
      "|   Pavel|  45|         3| 20000|         45|                 3|         20000|\n",
      "|    Kuba|  21|         1| 15000|         21|                 1|         15000|\n",
      "|   Julie|NULL|      NULL| 40000|         30|                 5|         40000|\n",
      "|   Tonda|  34|         2| 40500|         34|                 2|         40500|\n",
      "|    NULL|  26|        10| 38000|         26|                10|         38000|\n",
      "|    NULL|  19|      NULL|  NULL|         19|                 5|         32062|\n",
      "+--------+----+----------+------+-----------+------------------+--------------+\n",
      "\n"
     ]
    }
   ],
   "source": [
    "imputer.fit(dataframe).transform(dataframe).show()"
   ]
  }
 ],
 "metadata": {
  "kernelspec": {
   "display_name": "venv",
   "language": "python",
   "name": "python3"
  },
  "language_info": {
   "codemirror_mode": {
    "name": "ipython",
    "version": 3
   },
   "file_extension": ".py",
   "mimetype": "text/x-python",
   "name": "python",
   "nbconvert_exporter": "python",
   "pygments_lexer": "ipython3",
   "version": "3.12.4"
  }
 },
 "nbformat": 4,
 "nbformat_minor": 2
}
